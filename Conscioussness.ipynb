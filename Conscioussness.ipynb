{
 "cells": [
  {
   "cell_type": "markdown",
   "metadata": {},
   "source": [
    "# TMS awake/asleep comparison- Consciousness"
   ]
  },
  {
   "cell_type": "markdown",
   "metadata": {},
   "source": [
    "## Load in data\n",
    "\n",
    "This has to be converted to a fif file first using the bv2fif.py script"
   ]
  },
  {
   "cell_type": "code",
   "execution_count": null,
   "metadata": {
    "ExecuteTime": {
     "start_time": "2018-02-02T12:47:37.042Z"
    }
   },
   "outputs": [
    {
     "name": "stdout",
     "output_type": "stream",
     "text": [
      "Extracting parameters from ./JM/1_31_2018_JM_con_pilot.vhdr...\n",
      "Setting channel info structure...\n",
      "Reading 0 ... 99771499  =      0.000 ...  3990.860 secs...\n"
     ]
    }
   ],
   "source": [
    "from bv2fif import bv2fif\n",
    "import os,re,glob\n",
    "import os.path as op\n",
    "from MEEGbuddy import MEEGbuddy\n",
    "import numpy as np\n",
    "from mne import read_epochs\n",
    "from mne.io import Raw\n",
    "import matplotlib.pyplot as plt\n",
    "\n",
    "subject = 'Test'\n",
    "session = '01'\n",
    "\n",
    "stimuli = {'TMS':['Response/R 15',-0.5,1.0]}\n",
    "baseline = ['Response/R 15',-0.4,0]\n",
    "\n",
    "datarex = re.compile(r'[%s|%s]*.vhdr' %(subject.lower(),subject.upper()))\n",
    "correx = re.compile(r'[%s|%s]*.bvct' %(subject.lower(),subject.upper()))\n",
    "    \n",
    "if True:\n",
    "    files = glob.glob(op.join(os.getcwd(),'data','TMS',subject,session,'*'))\n",
    "    if not files:\n",
    "        print('Subject data must be in a folder with their name')\n",
    "    corf = None\n",
    "    for f in files:\n",
    "        if correx.search(f):\n",
    "            corf = f\n",
    "    for f in files:\n",
    "        if datarex.search(f) and not 'avg' in f and not 'TMS' in op.basename(f):\n",
    "            fdata = (os.path.join(os.path.dirname(f),\n",
    "                     op.basename(f).split('.')[0]+'-raw.fif'))\n",
    "            epof = (os.path.join(os.path.dirname(f),\n",
    "                    op.basename(f).split('.')[0]+'-epo.fif'))\n",
    "            if not op.isfile(fdata) or not op.isfile(epof):\n",
    "                bv2fif(f,corf,ref_ch='Fp1')\n",
    "            #\n",
    "            fs_dir = op.join(os.getcwd(),'data','TMS')\n",
    "            bemf = op.join(fs_dir,subject,'bem','%s-5120-5120-5120-bem-sol.fif' %(subject))\n",
    "            srcf = op.join(fs_dir,subject,'bem','%s-oct-6-src.fif' %(subject))\n",
    "            transf = op.join(fs_dir,subject,'COR-%s_%s.fif' %(subject,session))\n",
    "            #\n",
    "            epochs = read_epochs(epof)\n",
    "            print('Loading in to MEEGbuddy %s' %(subject))\n",
    "            data = MEEGbuddy(subject=subject,session=session,fdata=fdata,baseline=baseline,stimuli=stimuli,task='TMS-EEG',eeg=True,\n",
    "                             subjects_dir=op.join(os.getcwd(),'data'),exclude_response=[0,len(epochs)-1],\n",
    "                             epochs=epochs,event='TMS',fs_subjects_dir=fs_dir,bemf=bemf,srcf=srcf,transf=transf)"
   ]
  },
  {
   "cell_type": "markdown",
   "metadata": {},
   "source": [
    "### Mark Bads"
   ]
  },
  {
   "cell_type": "code",
   "execution_count": null,
   "metadata": {
    "collapsed": true
   },
   "outputs": [],
   "source": [
    "from MEEGbuddy import loadMEEGbuddies\n",
    "import os.path as op\n",
    "import os\n",
    "from tqdm import tqdm\n",
    "\n",
    "data_struct = loadMEEGbuddies(op.join(os.getcwd(),'data'),task='TMS-EEG')\n",
    "\n",
    "for data in tqdm(data_struct):\n",
    "    print(data.subject + ' ' + data.session)\n",
    "    event = 'TMS' if data.task == 'TMS-EEG' else 'DBS'\n",
    "    if not data._has_raw(keyword='Preprocessed'):\n",
    "        data.filterRaw(keyword_out='Preprocessed',l_freq=0.5,overwrite=True)\n",
    "        data.makeEpochs(keyword_in='Preprocessed',keyword_out='Vis',overwrite=True)\n",
    "        data.filterEpochs(event,keyword_in='Vis',h_freq=40,l_freq=None,overwrite=True) \n",
    "        data.plotEvoked(event,keyword='Vis',show=True,detrend=1,downsample=False,ylim={'eeg':[-100,100]})\n",
    "        data.plotRaw(keyword_in='Preprocessed',l_freq=None,h_freq=None,overwrite=True)"
   ]
  },
  {
   "cell_type": "markdown",
   "metadata": {},
   "source": [
    "### Choose and Apply Interpolation Raw data"
   ]
  },
  {
   "cell_type": "code",
   "execution_count": null,
   "metadata": {
    "collapsed": true
   },
   "outputs": [],
   "source": [
    "from MEEGbuddy import loadMEEGbuddies\n",
    "import os.path as op\n",
    "import os\n",
    "from tqdm import tqdm\n",
    "import matplotlib.pyplot as plt\n",
    "\n",
    "data_struct = loadMEEGbuddies(op.join(os.getcwd(),'data'),task='TMS-EEG')\n",
    "\n",
    "for data in tqdm(data_struct):\n",
    "    print(data.subject + ' ' + data.session)\n",
    "    event = 'TMS' if data.task == 'TMS-EEG' else 'DBS'\n",
    "    if not data._has_raw(keyword='Interpolated'):\n",
    "        raw_interp,_ = data.plotInterpolateArtifact('TMS',keyword='Preprocessed',mode='spline',npoint_art=11,offset=1,tmin=-0.1,tmax=0.1,ylim=[-1e-4,1e-4])\n",
    "        plt.show()\n",
    "        data.applyInterpolation(raw_interp,keyword_out='Interpolated',overwrite=True)"
   ]
  },
  {
   "cell_type": "markdown",
   "metadata": {},
   "source": [
    "### Do ICA on Raw Data"
   ]
  },
  {
   "cell_type": "code",
   "execution_count": null,
   "metadata": {
    "collapsed": true
   },
   "outputs": [],
   "source": [
    "from MEEGbuddy import loadMEEGbuddies\n",
    "import os.path as op\n",
    "import os\n",
    "from tqdm import tqdm\n",
    "import matplotlib.pyplot as plt\n",
    "\n",
    "data_struct = loadMEEGbuddies(op.join(os.getcwd(),'data'),task='TMS-EEG')\n",
    "\n",
    "for data in tqdm(data_struct):\n",
    "    event = 'TMS' if data.task == 'TMS-EEG' else 'DBS'\n",
    "    if not data._has_ICA(keyword='ICA'):\n",
    "        # precompute ICA\n",
    "        data.findICA(keyword_in='Interpolated',keyword_out='ICA',overwrite=True,overwrite_ica=True)\n",
    "        #\n",
    "        ok = True\n",
    "        while ok:\n",
    "            data.plotICA(keyword_in='Interpolated',keyword_out='ICA')\n",
    "            ok = input('Press Enter to continue...')\n",
    "        #\n",
    "        data.makeEpochs(keyword_in='ICA',keyword_out='Vis',overwrite=True)\n",
    "        data.filterEpochs(event,keyword_in='Vis',h_freq=40,overwrite=True)\n",
    "        data.plotEvoked(event,keyword='Vis',ylim={'eeg':[-60,40]},tmin=-0.5,tmax=0.5)\n",
    "        plt.show()"
   ]
  },
  {
   "cell_type": "markdown",
   "metadata": {},
   "source": [
    "### Multitaper Spectrogram and Sleep/Wake Assignment"
   ]
  },
  {
   "cell_type": "code",
   "execution_count": null,
   "metadata": {
    "collapsed": true
   },
   "outputs": [],
   "source": [
    "from MEEGbuddy import loadMEEGbuddies\n",
    "import os.path as op\n",
    "import os\n",
    "from tqdm import tqdm\n",
    "import matplotlib.pyplot as plt\n",
    "\n",
    "data_struct = loadMEEGbuddies(op.join(os.getcwd(),'data'),task='TMS-EEG')\n",
    "\n",
    "for data in tqdm(data_struct):\n",
    "    event = 'TMS' if data.task == 'TMS-EEG' else 'DBS'\n",
    "    if not data._has_PSD_image(keyword='ICA',ch='Oz'): #FIX THIS\n",
    "        state_times = data.psdMultitaper(keyword='ICA',overwrite=False,ch='Oz',vmax=-10)\n",
    "        data.assignConditionFromStateTimes('TMS',state_times)"
   ]
  },
  {
   "cell_type": "markdown",
   "metadata": {},
   "source": [
    "## Epochs"
   ]
  },
  {
   "cell_type": "markdown",
   "metadata": {},
   "source": [
    "### Plot Epochs"
   ]
  },
  {
   "cell_type": "code",
   "execution_count": null,
   "metadata": {},
   "outputs": [],
   "source": [
    "from MEEGbuddy import loadMEEGbuddies\n",
    "import os.path as op\n",
    "import os\n",
    "from tqdm import tqdm\n",
    "import matplotlib.pyplot as plt\n",
    "\n",
    "data_struct = loadMEEGbuddies(op.join(os.getcwd(),'data'),task='TMS-EEG')\n",
    "\n",
    "for data in tqdm(data_struct):\n",
    "    event = 'TMS' if data.task == 'TMS-EEG' else 'DBS'\n",
    "    if not data._has_epochs(event,keyword='Clean'):\n",
    "        data.plotEvoked(event,show=True,detrend=1,downsample=False,ylim={'eeg':[-100,100]})\n",
    "        data.plotEpochs(event,keyword_out='Clean',l_freq=None,h_freq=None,overwrite=True)"
   ]
  },
  {
   "cell_type": "markdown",
   "metadata": {},
   "source": [
    "### Interpolate Artifact"
   ]
  },
  {
   "cell_type": "code",
   "execution_count": null,
   "metadata": {},
   "outputs": [],
   "source": [
    "from MEEGbuddy import loadMEEGbuddies\n",
    "import os.path as op\n",
    "import os\n",
    "from tqdm import tqdm\n",
    "import matplotlib.pyplot as plt\n",
    "\n",
    "data_struct = loadMEEGbuddies(op.join(os.getcwd(),'data'),task='TMS-EEG')\n",
    "\n",
    "for data in tqdm(data_struct):\n",
    "    event = 'TMS' if data.task == 'TMS-EEG' else 'DBS'\n",
    "    if not data._has_epochs(event,keyword='Interpolated'):\n",
    "        epo_interp,_ = data.plotInterpolateArtifact(event,use_raw=False,keyword='Clean',mode='spline',\n",
    "                                                    npoint_art=11,offset=1,tmin=-0.1,tmax=0.1,ylim=[-6e-5,4e-5])\n",
    "        data.applyInterpolation(epo_interp,event,keyword_out='Interpolated',overwrite=True)\n",
    "        plt.show()"
   ]
  },
  {
   "cell_type": "markdown",
   "metadata": {},
   "source": [
    "### Apply ICA to Epochs"
   ]
  },
  {
   "cell_type": "code",
   "execution_count": null,
   "metadata": {},
   "outputs": [],
   "source": [
    "from MEEGbuddy import loadMEEGbuddies\n",
    "import os.path as op\n",
    "import os\n",
    "from tqdm import tqdm\n",
    "import matplotlib.pyplot as plt\n",
    "\n",
    "data_struct = loadMEEGbuddies(op.join(os.getcwd(),'data'),task='TMS-EEG')\n",
    "\n",
    "for data in tqdm(data_struct):\n",
    "    event = 'TMS' if data.task == 'TMS-EEG' else 'DBS'\n",
    "    if not data._has_epochs(event,keyword='ICA'):\n",
    "        data.findICA(event=event,keyword_in='Interpolated',keyword_out='ICA')"
   ]
  },
  {
   "cell_type": "markdown",
   "metadata": {},
   "source": [
    "### QC ICA"
   ]
  },
  {
   "cell_type": "code",
   "execution_count": null,
   "metadata": {},
   "outputs": [],
   "source": [
    "from MEEGbuddy import loadMEEGbuddies\n",
    "import os.path as op\n",
    "import os\n",
    "from tqdm import tqdm\n",
    "import matplotlib.pyplot as plt\n",
    "\n",
    "data_struct = loadMEEGbuddies(op.join(os.getcwd(),'data'),task='TMS-EEG')\n",
    "\n",
    "for data in tqdm(data_struct):\n",
    "    event = 'TMS' if data.task == 'TMS-EEG' else 'DBS'\n",
    "    if not data._has_epochs(event,keyword='Clean'):\n",
    "        # Quality check ICA (will need to do multiple times if the components are hand-selected) (click on the component name to see topo)\n",
    "        ok = True\n",
    "        while ok:\n",
    "            try:\n",
    "                data.plotICA(event=event,keyword_in='ICA')\n",
    "                data.filterEpochs(event,h_freq=40,keyword_in='ICA',keyword_out='Vis',overwrite=True)\n",
    "                data.plotEvoked(event,show=True,detrend=1,keyword='Vis',ylim={'eeg':[-100,100]})\n",
    "                data.plotTopo(event,condition='State',keyword='Vis',\n",
    "                              show=True,detrend=1,downsample=False)\n",
    "                data.plotEpochs(event,keyword_in='ICA',keyword_out='Clean',overwrite=True)\n",
    "                ok = input('Press ok to continue, type anything to go back')\n",
    "                while ok:\n",
    "                    data.filterEpochs(event,h_freq=40,keyword_in='Clean',keyword_out='Vis',overwrite=True)\n",
    "                    data.plotEvoked(event,show=True,detrend=1,keyword='Vis',ylim={'eeg':[-100,100]})\n",
    "                    data.plotTopo(event,condition='State',keyword='Vis',\n",
    "                                  show=True,detrend=1,downsample=False)\n",
    "                    data.plotEpochs(event,keyword_in='Clean',overwrite=True)\n",
    "            except Exception as e:\n",
    "                print(e)\n",
    "                print(data.subject)\n",
    "            ok = input('Press enter to move on, type anything to go back\\n')"
   ]
  },
  {
   "cell_type": "markdown",
   "metadata": {},
   "source": [
    "## Source Space"
   ]
  },
  {
   "cell_type": "code",
   "execution_count": 1,
   "metadata": {
    "ExecuteTime": {
     "end_time": "2018-06-25T16:10:35.652064Z",
     "start_time": "2018-06-25T16:10:35.481203Z"
    },
    "scrolled": false
   },
   "outputs": [
    {
     "ename": "NameError",
     "evalue": "name 'os' is not defined",
     "output_type": "error",
     "traceback": [
      "\u001b[0;31m---------------------------------------------------------------------------\u001b[0m",
      "\u001b[0;31mNameError\u001b[0m                                 Traceback (most recent call last)",
      "\u001b[0;32m<ipython-input-1-f40b1953d138>\u001b[0m in \u001b[0;36m<module>\u001b[0;34m()\u001b[0m\n\u001b[0;32m----> 1\u001b[0;31m \u001b[0mfs_dir\u001b[0m \u001b[0;34m=\u001b[0m \u001b[0mos\u001b[0m\u001b[0;34m.\u001b[0m\u001b[0mgetcwd\u001b[0m\u001b[0;34m(\u001b[0m\u001b[0;34m)\u001b[0m \u001b[0;34m+\u001b[0m \u001b[0;34m'/'\u001b[0m \u001b[0;34m+\u001b[0m \u001b[0msubject\u001b[0m \u001b[0;34m+\u001b[0m \u001b[0;34m'/'\u001b[0m\u001b[0;34m\u001b[0m\u001b[0m\n\u001b[0m\u001b[1;32m      2\u001b[0m \u001b[0mbemf\u001b[0m \u001b[0;34m=\u001b[0m \u001b[0;34m'bem/'\u001b[0m \u001b[0;34m+\u001b[0m \u001b[0msubject\u001b[0m \u001b[0;34m+\u001b[0m \u001b[0;34m'-5120-5120-5120-bem-sol.fif'\u001b[0m\u001b[0;34m\u001b[0m\u001b[0m\n\u001b[1;32m      3\u001b[0m \u001b[0msourcef\u001b[0m \u001b[0;34m=\u001b[0m \u001b[0;34m'bem/'\u001b[0m \u001b[0;34m+\u001b[0m \u001b[0msubject\u001b[0m \u001b[0;34m+\u001b[0m \u001b[0;34m'-oct-6-src.fif'\u001b[0m\u001b[0;34m\u001b[0m\u001b[0m\n\u001b[1;32m      4\u001b[0m \u001b[0mcoord_transf\u001b[0m \u001b[0;34m=\u001b[0m \u001b[0;34m'COR-'\u001b[0m \u001b[0;34m+\u001b[0m \u001b[0msubject\u001b[0m \u001b[0;34m+\u001b[0m \u001b[0;34m'.fif'\u001b[0m\u001b[0;34m\u001b[0m\u001b[0m\n\u001b[1;32m      5\u001b[0m \u001b[0;34m\u001b[0m\u001b[0m\n",
      "\u001b[0;31mNameError\u001b[0m: name 'os' is not defined"
     ]
    }
   ],
   "source": [
    "from MEEGbuddy import loadMEEGbuddies\n",
    "import os.path as op\n",
    "import os\n",
    "from tqdm import tqdm\n",
    "import matplotlib.pyplot as plt\n",
    "\n",
    "data_struct = loadMEEGbuddies(op.join(os.getcwd(),'data'),task='TMS-EEG')\n",
    "\n",
    "for data in tqdm(data_struct):\n",
    "    event = 'TMS' if data.task == 'TMS-EEG' else 'DBS'\n",
    "    if not all([data._has_source(event,'State',value) for value in data._default_values('State')]):\n",
    "        epochs = data._load_epochs(event,keyword='Clean')\n",
    "        data._save_epochs(epochs.crop(tmin=-0.5,tmax=0),'Baseline',keyword='Clean')\n",
    "        data.epochs2source(event,'State',keyword_in='Clean')"
   ]
  },
  {
   "cell_type": "markdown",
   "metadata": {},
   "source": [
    "### Plot Source Space (optional)"
   ]
  },
  {
   "cell_type": "code",
   "execution_count": null,
   "metadata": {
    "collapsed": true
   },
   "outputs": [],
   "source": [
    "from MEEGbuddy import loadMEEGbuddies\n",
    "import os.path as op\n",
    "import os\n",
    "from tqdm import tqdm\n",
    "import matplotlib.pyplot as plt\n",
    "\n",
    "data_struct = loadMEEGbuddies(op.join(os.getcwd(),'data'),task='TMS-EEG')\n",
    "\n",
    "for data in tqdm(data_struct):\n",
    "    event = 'TMS' if data.task == 'TMS-EEG' else 'DBS'\n",
    "    data.plotSourceSpace(event,'State',keyword='ICA',tmin=-0.1,tmax=0.5)"
   ]
  },
  {
   "cell_type": "markdown",
   "metadata": {},
   "source": [
    "## PCI\n",
    "\n",
    "The interesting part!"
   ]
  },
  {
   "cell_type": "code",
   "execution_count": null,
   "metadata": {
    "ExecuteTime": {
     "start_time": "2017-12-28T19:39:09.522Z"
    },
    "collapsed": true,
    "scrolled": true
   },
   "outputs": [],
   "source": [
    "from MEEGbuddy import loadMEEGbuddies\n",
    "import os.path as op\n",
    "import os\n",
    "from tqdm import tqdm\n",
    "import matplotlib.pyplot as plt\n",
    "\n",
    "data_struct = loadMEEGbuddies(op.join(os.getcwd(),'data'),task='TMS-EEG')\n",
    "\n",
    "for data in tqdm(data_struct):\n",
    "    event = 'TMS' if data.task == 'TMS-EEG' else 'DBS'\n",
    "    if not all([data._has_noreun_PCI(event,'State',value,keyword='Clean') \n",
    "                for value in data._default_values('State')]):\n",
    "        data.noreunPhi('TMS','State',keyword_in='Clean',npoint_art=10,\n",
    "                       tmin=0.0,tmax=0.3,shared_baseline=False,\n",
    "                       bl_tmin=-0.4,bl_tmax=-0.01,downsample=False,\n",
    "                       recalculate_PCI=True)"
   ]
  },
  {
   "cell_type": "code",
   "execution_count": null,
   "metadata": {
    "ExecuteTime": {
     "start_time": "2017-12-28T19:39:24.155Z"
    },
    "collapsed": true
   },
   "outputs": [],
   "source": [
    "from MEEGbuddy import loadMEEGbuddies\n",
    "import os.path as op\n",
    "import os\n",
    "from tqdm import tqdm\n",
    "import matplotlib.pyplot as plt\n",
    "\n",
    "data_struct = loadMEEGbuddies(op.join(os.getcwd(),'data'),task='TMS-EEG')\n",
    "\n",
    "for data in tqdm(data_struct):\n",
    "    event = 'TMS' if data.task == 'TMS-EEG' else 'DBS'\n",
    "    data.plotNoreunPCI('TMS','State',keyword='Clean')"
   ]
  }
 ],
 "metadata": {
  "kernelspec": {
   "display_name": "Python 3",
   "language": "python",
   "name": "python3"
  },
  "language_info": {
   "codemirror_mode": {
    "name": "ipython",
    "version": 3
   },
   "file_extension": ".py",
   "mimetype": "text/x-python",
   "name": "python",
   "nbconvert_exporter": "python",
   "pygments_lexer": "ipython3",
   "version": "3.6.8"
  },
  "toc": {
   "colors": {
    "hover_highlight": "#DAA520",
    "navigate_num": "#000000",
    "navigate_text": "#333333",
    "running_highlight": "#FF0000",
    "selected_highlight": "#FFD700",
    "sidebar_border": "#EEEEEE",
    "wrapper_background": "#FFFFFF"
   },
   "moveMenuLeft": true,
   "nav_menu": {
    "height": "242px",
    "width": "252px"
   },
   "navigate_menu": true,
   "number_sections": true,
   "sideBar": true,
   "threshold": 4,
   "toc_cell": false,
   "toc_section_display": "block",
   "toc_window_display": true,
   "widenNotebook": false
  }
 },
 "nbformat": 4,
 "nbformat_minor": 2
}
