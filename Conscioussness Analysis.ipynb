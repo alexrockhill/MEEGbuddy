{
 "cells": [
  {
   "cell_type": "markdown",
   "metadata": {},
   "source": [
    "# DBS/TMS awake/asleep comparison- Consciousness"
   ]
  },
  {
   "cell_type": "markdown",
   "metadata": {},
   "source": [
    "## Load in data"
   ]
  },
  {
   "cell_type": "code",
   "execution_count": null,
   "metadata": {
    "ExecuteTime": {
     "start_time": "2018-02-02T12:47:37.042Z"
    }
   },
   "outputs": [
    {
     "name": "stdout",
     "output_type": "stream",
     "text": [
      "Extracting parameters from ./JM/1_31_2018_JM_con_pilot.vhdr...\n",
      "Setting channel info structure...\n",
      "Reading 0 ... 99771499  =      0.000 ...  3990.860 secs...\n"
     ]
    }
   ],
   "source": [
    "import os,re,glob\n",
    "import os.path as op\n",
    "from MEEGbuddy import MEEGbuddy\n",
    "from MEEGbuddy.bv2fif import bv2fif\n",
    "import numpy as np\n",
    "from mne import find_events, events_from_annotations\n",
    "from mne.io import Raw\n",
    "import matplotlib.pyplot as plt\n",
    "from pandas import DataFrame\n",
    "\n",
    "subject = 'PT'\n",
    "session = '20190726'\n",
    "ref_ch = None\n",
    "perturbation = 'TMS'\n",
    "event_id = 'Stimulus/S255' #'TMS' #'Response/R 15'\n",
    "\n",
    "datarex = re.compile(r'[%s|%s]*.vhdr' % (subject.lower(), subject.upper()))\n",
    "correx = re.compile(r'[%s|%s]*.csv' % (subject.lower(), subject.upper()))\n",
    "    \n",
    "if True:\n",
    "    this_dir = op.join('data', perturbation, subject, session)\n",
    "    files = os.listdir(this_dir)\n",
    "    if not files:\n",
    "        print('Subject data must be in a folder with their name')\n",
    "    corf = None\n",
    "    for f in files:\n",
    "        if correx.search(op.basename(f)):\n",
    "            corf = f\n",
    "    for f in files:\n",
    "        if all([datarex.search(f),not 'fif' in f,not 'avg' in f, \n",
    "                not '-TMS.vhdr' == op.basename(f)[-9:],not '-DBS.vhdr' == op.basename(f)[-9:]]):\n",
    "            fdata = (op.join(this_dir, op.dirname(f),\n",
    "                     op.basename(f).split('.')[0]+'-raw.fif'))\n",
    "            behavior = op.join(this_dir, op.dirname(f),\n",
    "                     op.basename(f).split('.')[0]+'.csv')\n",
    "            if not op.isfile(fdata):\n",
    "                bv2fif(op.join(this_dir, f), op.join(this_dir, corf),\n",
    "                       ref_ch=ref_ch, dbs=perturbation.lower()=='dbs')\n",
    "            raw = Raw(fdata, preload=False)\n",
    "            events, event_id2 = events_from_annotations(raw)\n",
    "            if not events.size > 0:\n",
    "                events = find_events(raw)\n",
    "            if len(np.unique(events[:, 2])) > 1:\n",
    "                events = events[np.where(events[:,2] == events[1,2])[-1]] #skip new segment\n",
    "            df = DataFrame({'Trial': range(1, events.shape[0] + 1), 'State': 'TBD'})\n",
    "            df.to_csv(behavior, index=False)\n",
    "            behavior_description = {'Trial': {'Description': 'The order of the stimulus presentations',\n",
    "                                              'Baseline': {'Channel': event_id, 'Time Min': -0.4, 'Time Max': -0.01},\n",
    "                                              'Events': {perturbation: {'Channel': event_id, 'Time Min': -0.5, 'Time Max': 1.0}},\n",
    "                                              'Exclude Trials': [0, len(df) - 1]},\n",
    "                                    'State': {'Description': 'Whether the subject was awake or asleep on ' + \n",
    "                                              'that trial'}}\n",
    "            #\n",
    "            fs_dir = op.join(os.getcwd(), 'data', perturbation)\n",
    "            bemf = op.join(fs_dir,subject, 'bem', '%s-5120-5120-5120-bem-sol.fif' % (subject))\n",
    "            srcf = op.join(fs_dir,subject, 'bem', '%s-oct-6-src.fif' % (subject))\n",
    "            transf = op.join(fs_dir, subject, session, 'COR-%s_%s.fif' % (subject, session))\n",
    "            #\n",
    "            print('Loading in to MEEGbuddy %s %s' %(subject, session))\n",
    "            data = MEEGbuddy(subject=subject, session=session, fdata=fdata,\n",
    "                             task=perturbation + 'EEG', eeg=True,\n",
    "                             subjects_dir=op.join(os.getcwd(), 'data'),\n",
    "                             fs_subjects_dir=fs_dir,\n",
    "                             bemf=bemf, srcf=srcf, transf=transf, behavior=behavior,\n",
    "                             behavior_description=behavior_description)"
   ]
  },
  {
   "cell_type": "raw",
   "metadata": {},
   "source": [
    "T1-neuromag/setsfCoregistration\n",
    "\n",
    "Use the GUI OR\n",
    "\n",
    "\n",
    "Now source mne and freesurfer in a terminal then type the following commands:\n",
    "for csh:\n",
    "setenv SUBJECT {subject}\n",
    "setenv SUBJECTS_DIR {directory_where_freesurfer_reconstruction_was_given_for_recon_all}\n",
    "for bash:\n",
    "SUBJECT={subject}\n",
    "SUBJECTS_DIR=SUBJECTS_DIR {directory_where_freesurfer_reconstruction_was_given_for_recon_all}\n",
    "\n",
    "mne_analyze\n",
    "\n",
    "This pops up a GUI, then:\n",
    "1) File>Load Surface>Ok\n",
    "2) File>Load Digitizer Data>{Select newly created fif file using the browser}>Ok\n",
    "3) View>Show viewer\n",
    "4) In Viewer Panel Select Options\n",
    "5) Adjust>Adjust coordinate alignment\n",
    "\n",
    "Then use the adjust coordinate aligment gui to move the electrode digitizations to the correct place in the viewer with adjustments to show/hide the points and whether the head is transparent in the viewer options panel.\n",
    "\n",
    "Then save mri set in the bottom right corner and rename this to your transf\n",
    "\n",
    "It is under fs_subjects_dir/mri/T1-neuromag/sets"
   ]
  },
  {
   "cell_type": "markdown",
   "metadata": {},
   "source": [
    "# Reload MEEGbuddy"
   ]
  },
  {
   "cell_type": "code",
   "execution_count": null,
   "metadata": {},
   "outputs": [],
   "source": [
    "from MEEGbuddy import loadMEEGbuddy\n",
    "import os.path as op\n",
    "import os\n",
    "\n",
    "subject = 'PT'\n",
    "session = '20190726'\n",
    "perturbation = 'TMS'\n",
    "\n",
    "data = loadMEEGbuddy(op.join(os.getcwd(), 'data'), subject, session,\n",
    "                     eeg=True, task=perturbation + 'EEG')"
   ]
  },
  {
   "cell_type": "markdown",
   "metadata": {},
   "source": [
    "# Save to BIDS"
   ]
  },
  {
   "cell_type": "code",
   "execution_count": null,
   "metadata": {},
   "outputs": [],
   "source": [
    "data.save2BIDS('data_BIDS')"
   ]
  },
  {
   "cell_type": "markdown",
   "metadata": {},
   "source": [
    "## Channel and Trial Rejection"
   ]
  },
  {
   "cell_type": "code",
   "execution_count": null,
   "metadata": {
    "collapsed": true
   },
   "outputs": [],
   "source": [
    "event = 'TMS' if data.task == 'TMS-EEG' else 'DBS'\n",
    "\n",
    "data.makeEpochs(keyword_out='Preprocessed', overwrite=True)\n",
    "#data.filterEpochs(event, keyword_in='Preprocessed', l_freq=None, h_freq=40, overwrite=True)\n",
    "data.plotEvoked(event, keyword='Preprocessed', ylim={'eeg':[-60, 40]},\n",
    "                tmin=-0.5, tmax=0.5)\n",
    "ok, first = False, True\n",
    "while not ok:\n",
    "    data.plotRaw(keyword_in=(None if first else 'Preprocessed'),\n",
    "                 keyword_out='Preprocessed', l_freq=None, h_freq=None, overwrite=True)\n",
    "    data.makeEpochs(keyword_in='Preprocessed', overwrite=True)\n",
    "    #data.filterEpochs(event, keyword_in='Preprocessed', l_freq=None, h_freq=40, overwrite=True)\n",
    "    data.plotEvoked(event, keyword='Preprocessed', ylim={'eeg':[-60,40]}, tmin=-0.5, tmax=0.5)\n",
    "    ok, first = input('Type Y or y if ok, anything else to go back\\n').lower() == 'y', False\n",
    "plt.show()\n",
    "#\n",
    "ok = False\n",
    "while not ok:\n",
    "    raw_interp,_ = data.plotInterpolateArtifact(event, keyword='Preprocessed', mode='spline', \n",
    "                                                npoint_art=126, offset=25, tmin=-0.1, tmax=0.1, \n",
    "                                                ylim=[-1e-4,1e-4])\n",
    "    plt.show()\n",
    "    ok = input('Type Y or y if ok, anything else to go back\\n').lower() == 'y'\n",
    "#\n",
    "data.applyInterpolation(raw_interp, keyword_out='Interpolated',\n",
    "                        overwrite=True)\n",
    "data.filterRaw(keyword_in='Interpolated', l_freq=1.0, overwrite=True)\n",
    "data.makeEpochs(keyword_in='Interpolated', keyword_out='Preprocessed', overwrite=True)\n",
    "data.downsample(event=event, keyword_in='Preprocessed', new_sfreq=200, overwrite=True)\n",
    "#\n",
    "ok = False\n",
    "while not ok:\n",
    "    data.plotEvoked(event, keyword='Preprocessed', \n",
    "                    ylim={'eeg':[-60, 40]}, tmin=-0.5, tmax=0.5)\n",
    "    data.plotEpochs(event, keyword_in='Preprocessed', \n",
    "                    l_freq=None, h_freq=None, overwrite=True)\n",
    "    ok = input('Type Y or y if ok, anything else to go back\\n').lower() == 'y'"
   ]
  },
  {
   "cell_type": "markdown",
   "metadata": {},
   "source": [
    "## ICA"
   ]
  },
  {
   "cell_type": "code",
   "execution_count": null,
   "metadata": {
    "collapsed": true
   },
   "outputs": [],
   "source": [
    "event = 'TMS' if data.task == 'TMS-EEG' else 'DBS'\n",
    "# precompute ICA\n",
    "data.findICA(event=event, keyword_in='Preprocessed', keyword_out='ICA',\n",
    "             n_components=0.95, overwrite=True, overwrite_ica=True)\n",
    "#\n",
    "data.filterEpochs(event, h_freq=40, keyword_in='Preprocessed', keyword_out='Vis', overwrite=True)\n",
    "data.plotEvoked(event, keyword='Vis', ylim={'eeg':[-100, 100]})\n",
    "data.plotTopo(event, keyword='Vis')\n",
    "ok = False\n",
    "while not ok:\n",
    "    data.plotICA(event=event, keyword_in='Preprocessed', keyword_out='ICA')\n",
    "    data.filterEpochs(event, h_freq=40, keyword_in='ICA', keyword_out='Vis', overwrite=True)\n",
    "    data.plotEvoked(event, keyword='Vis', ylim={'eeg':[-100, 100]})\n",
    "    data.plotTopo(event, keyword='Vis')\n",
    "    ok = input('Type Y or y if ok, anything else to go back\\n').lower() == 'y'\n",
    "plt.show()\n",
    "data.filterEpochs(event, h_freq=80, keyword_in='ICA', overwrite=True)\n",
    "epochs = data._load_epochs(event, keyword='ICA')\n",
    "bl_epochs = epochs.crop(tmin=data.baseline[1], tmax=data.baseline[2])\n",
    "data._save_epochs(bl_epochs, 'Baseline', keyword='ICA')"
   ]
  },
  {
   "cell_type": "markdown",
   "metadata": {},
   "source": [
    "## Multitaper Spectrogram and Sleep/Wake Assignment"
   ]
  },
  {
   "cell_type": "code",
   "execution_count": null,
   "metadata": {
    "collapsed": true
   },
   "outputs": [],
   "source": [
    "event = 'TMS' if data.task == 'TMS-EEG' else 'DBS'\n",
    "state_times = data.psdMultitaper(keyword='Preprocessed', overwrite=False, ch='Oz', vmax=-10)\n",
    "data.assignConditionFromStateTimes(event, state_times)"
   ]
  },
  {
   "cell_type": "markdown",
   "metadata": {},
   "source": [
    "## Clean Up"
   ]
  },
  {
   "cell_type": "code",
   "execution_count": null,
   "metadata": {},
   "outputs": [],
   "source": [
    "event = 'TMS' if data.task == 'TMS-EEG' else 'DBS'\n",
    "data.remove(keyword='Preprocessed')\n",
    "data.remove(event, keyword='Preprocessed')\n",
    "data.remove(keyword='Interpolated')"
   ]
  },
  {
   "cell_type": "markdown",
   "metadata": {},
   "source": [
    "## Source Space"
   ]
  },
  {
   "cell_type": "code",
   "execution_count": 3,
   "metadata": {
    "ExecuteTime": {
     "end_time": "2019-03-20T17:05:40.491900Z",
     "start_time": "2019-03-20T17:05:40.459788Z"
    },
    "scrolled": false
   },
   "outputs": [
    {
     "name": "stderr",
     "output_type": "stream",
     "text": [
      "\n",
      "\n",
      "  0%|          | 0/2 [00:00<?, ?it/s]\u001b[A\u001b[A\n",
      "\n",
      "100%|██████████| 2/2 [00:00<00:00, 251.45it/s]\u001b[A\u001b[A"
     ]
    }
   ],
   "source": [
    "event = 'TMS' if data.task == 'TMS-EEG' else 'DBS'\n",
    "data.epochs2source(event, 'State', method='MNE', snr=1.0, \n",
    "                       keyword_in='ICA', keyword_out='Clean', \n",
    "                       overwrite=True)"
   ]
  },
  {
   "cell_type": "markdown",
   "metadata": {},
   "source": [
    "### Plot Source Space (optional)"
   ]
  },
  {
   "cell_type": "code",
   "execution_count": null,
   "metadata": {
    "collapsed": true
   },
   "outputs": [],
   "source": [
    "event = 'TMS' if data.task == 'TMS-EEG' else 'DBS'\n",
    "data.plotSourceSpace(event,'State', keyword='Clean', tmin=-0.1, tmax=0.5)\n",
    "plt.close('all')"
   ]
  },
  {
   "cell_type": "markdown",
   "metadata": {},
   "source": [
    "## PCI\n",
    "\n",
    "The interesting part!"
   ]
  },
  {
   "cell_type": "code",
   "execution_count": null,
   "metadata": {
    "ExecuteTime": {
     "start_time": "2017-12-28T19:39:09.522Z"
    },
    "collapsed": true,
    "scrolled": true
   },
   "outputs": [],
   "source": [
    "event = 'TMS' if data.task == 'TMS-EEG' else 'DBS'\n",
    "if not data._has_epochs(event, keyword='PCI'):\n",
    "    values = [value for value in data._default_values('State') if not value == 'Neither']\n",
    "    alphas = [0.01] if event == 'TMS' else [0.01, 0.1, 0.5]\n",
    "    if not all([data._has_noreun_PCI(event, 'State', value, keyword='alpha=%s' %(alpha)) \n",
    "                for value in values for alpha in alphas]):\n",
    "        for alpha in alphas:\n",
    "            print('Alpha = %s' %(alpha))\n",
    "            data.noreunPhi(event, 'State', values=values, keyword_in='ICA', source_keyword='Clean',\n",
    "                           keyword_out='alpha=%s' % alpha, alpha=alpha, npoint_art=4,\n",
    "                           tmin=0.0, tmax=0.3, shared_baseline=False,\n",
    "                           bl_tmin=-0.4, bl_tmax=-0.01, downsample=False,\n",
    "                           recalculate_PCI=True, recalculate_baseline=True)"
   ]
  },
  {
   "cell_type": "markdown",
   "metadata": {},
   "source": [
    "### Plot PCI"
   ]
  },
  {
   "cell_type": "code",
   "execution_count": null,
   "metadata": {
    "ExecuteTime": {
     "start_time": "2017-12-28T19:39:24.155Z"
    },
    "collapsed": true
   },
   "outputs": [],
   "source": [
    "event = 'TMS' if data.task == 'TMS-EEG' else 'DBS'\n",
    "values = [value for value in data._default_values('State') if not value == 'Neither']\n",
    "alphas = [0.01] if event == 'TMS' else [0.01, 0.1, 0.5]\n",
    "for alpha in alphas:\n",
    "    data.plotNoreunPCI(event, 'State', values=values, keyword='alpha=%s' %(alpha),\n",
    "                       evoked_tmin=-0.4, evoked_tmax=0.3)"
   ]
  },
  {
   "cell_type": "markdown",
   "metadata": {},
   "source": [
    "## Wavelet Connectivity Visualization (not part of pipeline)"
   ]
  },
  {
   "cell_type": "code",
   "execution_count": null,
   "metadata": {},
   "outputs": [],
   "source": [
    "import matplotlib.pyplot as plt\n",
    "\n",
    "print(data.subject + ' ' + data.session)\n",
    "event = 'TMS' if data.task == 'TMS-EEG' else 'DBS'\n",
    "data.waveletConnectivity(event,'State',keyword_in='Clean',\n",
    "                         keyword_out='WC',downsample=False,\n",
    "                         bands={'alpha':(8, 15),'beta':(15, 35),\n",
    "                                'gamma':(35, 150)},tmin=-0.5,tmax=1,\n",
    "                         time_scalar=2, vis_tmin=-0.1, vis_tmax=0.2,\n",
    "                         threshold=0.5)\n",
    "plt.close('all')"
   ]
  }
 ],
 "metadata": {
  "kernelspec": {
   "display_name": "Python 3",
   "language": "python",
   "name": "python3"
  },
  "language_info": {
   "codemirror_mode": {
    "name": "ipython",
    "version": 3
   },
   "file_extension": ".py",
   "mimetype": "text/x-python",
   "name": "python",
   "nbconvert_exporter": "python",
   "pygments_lexer": "ipython3",
   "version": "3.6.8"
  },
  "toc": {
   "colors": {
    "hover_highlight": "#DAA520",
    "navigate_num": "#000000",
    "navigate_text": "#333333",
    "running_highlight": "#FF0000",
    "selected_highlight": "#FFD700",
    "sidebar_border": "#EEEEEE",
    "wrapper_background": "#FFFFFF"
   },
   "moveMenuLeft": true,
   "nav_menu": {
    "height": "242px",
    "width": "252px"
   },
   "navigate_menu": true,
   "number_sections": true,
   "sideBar": false,
   "threshold": 4,
   "toc_cell": false,
   "toc_position": {
    "height": "393px",
    "left": "4px",
    "right": "1456px",
    "top": "102px",
    "width": "212px"
   },
   "toc_section_display": "block",
   "toc_window_display": true,
   "widenNotebook": false
  }
 },
 "nbformat": 4,
 "nbformat_minor": 2
}
